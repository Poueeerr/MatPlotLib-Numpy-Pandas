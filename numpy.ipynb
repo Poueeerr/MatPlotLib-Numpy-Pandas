{
 "cells": [
  {
   "cell_type": "code",
   "execution_count": 4,
   "id": "7489952a-a6be-4e28-a0f0-500cc96b175c",
   "metadata": {},
   "outputs": [],
   "source": [
    "import numpy as np\n",
    "import sys"
   ]
  },
  {
   "cell_type": "code",
   "execution_count": 6,
   "id": "701c84cf-a083-44aa-8357-6670669c89ae",
   "metadata": {},
   "outputs": [],
   "source": [
    "#Array 1D\n",
    "a1 = np.array([1,2,3,4,5])\n",
    "#Array 1D\n",
    "a1d2 = np.array([1,2,3,4,5])"
   ]
  },
  {
   "cell_type": "code",
   "execution_count": 20,
   "id": "fb960ec8-0db4-437e-bbe3-1841ed8ee484",
   "metadata": {},
   "outputs": [
    {
     "data": {
      "text/plain": [
       "array([[1, 2, 3],\n",
       "       [4, 5, 6]])"
      ]
     },
     "execution_count": 20,
     "metadata": {},
     "output_type": "execute_result"
    }
   ],
   "source": [
    "#Array 2D\n",
    "a2 = np.array([[1,2,3], [4,5,6]])\n",
    "a2"
   ]
  },
  {
   "cell_type": "code",
   "execution_count": 10,
   "id": "159b4c40-a67e-47c7-9fe9-a889b96115fa",
   "metadata": {},
   "outputs": [],
   "source": [
    "#Array 3D\n",
    "a3 = np.array([[[1,2,3], [4,5,6], [7,8,9]]])"
   ]
  },
  {
   "cell_type": "code",
   "execution_count": 12,
   "id": "3570fb1c-cec1-4a56-9026-fa9ecadca8eb",
   "metadata": {},
   "outputs": [
    {
     "data": {
      "text/plain": [
       "array([ 2,  4,  6,  8, 10])"
      ]
     },
     "execution_count": 12,
     "metadata": {},
     "output_type": "execute_result"
    }
   ],
   "source": [
    "#Soma de arrays\n",
    "sum = np.add(a1, a1d2)\n",
    "sum"
   ]
  },
  {
   "cell_type": "code",
   "execution_count": 24,
   "id": "d5ac7080-4aa8-4b88-bbb4-70a8e3a069d5",
   "metadata": {},
   "outputs": [
    {
     "data": {
      "text/plain": [
       "3"
      ]
     },
     "execution_count": 24,
     "metadata": {},
     "output_type": "execute_result"
    }
   ],
   "source": [
    "#Selecionar um valor dentro da array\n",
    "# array[row, column]\n",
    "a2[0,2]"
   ]
  },
  {
   "cell_type": "code",
   "execution_count": 28,
   "id": "8b42ea1c-98ca-4965-947a-63da78116db6",
   "metadata": {},
   "outputs": [
    {
     "data": {
      "text/plain": [
       "array([[4, 5, 6]])"
      ]
     },
     "execution_count": 28,
     "metadata": {},
     "output_type": "execute_result"
    }
   ],
   "source": [
    "a2[1:]"
   ]
  },
  {
   "cell_type": "code",
   "execution_count": 35,
   "id": "31560fb9-7d11-4a0f-9feb-db4f45eda0e9",
   "metadata": {},
   "outputs": [
    {
     "data": {
      "text/plain": [
       "array([3, 6])"
      ]
     },
     "execution_count": 35,
     "metadata": {},
     "output_type": "execute_result"
    }
   ],
   "source": [
    "a2[:,2]"
   ]
  },
  {
   "cell_type": "code",
   "execution_count": null,
   "id": "7b649c08-bb8d-4098-92eb-fcf12f2fd952",
   "metadata": {},
   "outputs": [],
   "source": []
  }
 ],
 "metadata": {
  "kernelspec": {
   "display_name": "Python 3 (ipykernel)",
   "language": "python",
   "name": "python3"
  },
  "language_info": {
   "codemirror_mode": {
    "name": "ipython",
    "version": 3
   },
   "file_extension": ".py",
   "mimetype": "text/x-python",
   "name": "python",
   "nbconvert_exporter": "python",
   "pygments_lexer": "ipython3",
   "version": "3.12.4"
  }
 },
 "nbformat": 4,
 "nbformat_minor": 5
}
